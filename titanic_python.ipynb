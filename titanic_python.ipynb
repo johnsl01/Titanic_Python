{
  "nbformat": 4,
  "nbformat_minor": 0,
  "metadata": {
    "colab": {
      "name": "empty.ipynb",
      "version": "0.3.2",
      "provenance": []
    },
    "kernelspec": {
      "name": "python3",
      "display_name": "Python 3"
    }
  },
  "cells": [
    {
      "cell_type": "markdown",
      "metadata": {
        "id": "1",
        "colab_type": "text"
      },
      "source": [
        "Titanic Python\n",
        "\n",
        "1/May/2019\n",
        "\n",
        "*\"first catch your hare\"*\n",
        "\n"
      ]
    },
    {
      "cell_type": "code",
      "metadata": {
        "id": "2",
        "colab_type": "code",
        "colab": {}
      },
      "source": [
        "print (\"Titanic - Python\")\n",
        "import pandas as pd\n",
        "import numpy as np\n",
        "\n",
        "known_data = pd.read_csv('https://github.com/johnsl01/Titanic_Python/blob/master/titanic_known.csv')"
      ],
      "execution_count": 0,
      "outputs": []
    }
  ]
}