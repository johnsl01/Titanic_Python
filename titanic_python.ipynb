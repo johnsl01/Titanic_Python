{
  "nbformat": 4,
  "nbformat_minor": 0,
  "metadata": {
    "colab": {
      "name": "empty.ipynb",
      "version": "0.3.2",
      "provenance": []
    },
    "kernelspec": {
      "name": "python3",
      "display_name": "Python 3"
    }
  },
  "cells": [
    {
      "metadata": {
        "id": "1",
        "colab_type": "text"
      },
      "cell_type": "markdown",
      "source": [
        "###Titanic Python\n",
        "\n",
        "1/May/2019\n",
        "\n",
        "*\"first catch your hare\"*\n",
        "\n"
      ]
    },
    {
      "metadata": {
        "id": "2",
        "colab_type": "code",
        "colab": {
          "base_uri": "https://localhost:8080/",
          "height": 34
        },
        "outputId": "eff0039d-884b-4a39-cc5f-707404456552"
      },
      "cell_type": "code",
      "source": [
        "print (\"Titanic - Python\")\n"
      ],
      "execution_count": 1,
      "outputs": [
        {
          "output_type": "stream",
          "text": [
            "Titanic - Python\n"
          ],
          "name": "stdout"
        }
      ]
    }
  ]
}